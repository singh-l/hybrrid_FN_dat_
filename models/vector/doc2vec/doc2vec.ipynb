{
 "cells": [
  {
   "cell_type": "markdown",
   "metadata": {},
   "source": [
    "### This module tests each classical model on doc2vec representations of the text"
   ]
  },
  {
   "cell_type": "code",
   "execution_count": 1,
   "metadata": {},
   "outputs": [],
   "source": [
    "#make the necessary imports\n",
    "from getEmbeddings import getEmbeddings\n",
    "import numpy as np\n",
    "import matplotlib.pyplot as plt\n",
    "import scikitplot.plotters as skplt\n",
    "import itertools\n",
    "from sklearn.metrics import accuracy_score, confusion_matrix\n",
    "from sklearn.ensemble import RandomForestClassifier\n",
    "from sklearn.neighbors import KNeighborsClassifier\n",
    "from sklearn.svm import SVC\n",
    "from sklearn.linear_model import LogisticRegression"
   ]
  },
  {
   "cell_type": "code",
   "execution_count": 2,
   "metadata": {},
   "outputs": [],
   "source": [
    "#read the data\n",
    "x_train,y_train = getEmbeddings('../../../datasets/liar_tweaked/trainvectordata.csv')\n",
    "x_test,y_test = getEmbeddings('../../../datasets/liar_tweaked/testvectordata.csv')\n",
    "x_valid,y_valid = getEmbeddings('../../../datasets/liar_tweaked/validvectordata.csv')"
   ]
  },
  {
   "cell_type": "code",
   "execution_count": 3,
   "metadata": {},
   "outputs": [
    {
     "name": "stdout",
     "output_type": "stream",
     "text": [
      "Test data Accuracy = 56.35%\n",
      "Valid data Accuracy = 52.02%\n"
     ]
    }
   ],
   "source": [
    "#fit and check accuracy of SVM model on both test and valid dataset\n",
    "clf = SVC()\n",
    "clf.fit(x_train, y_train)\n",
    "y_test_pred = clf.predict(x_test)\n",
    "m = y_test.shape[0]\n",
    "n = (y_test != y_test_pred).sum()\n",
    "print(\"Test data Accuracy = \" + format((m-n)/m*100, '.2f') + \"%\") \n",
    "y_valid_pred = clf.predict(x_valid)\n",
    "m = y_valid.shape[0]\n",
    "n = (y_valid != y_valid_pred).sum()\n",
    "print(\"Valid data Accuracy = \" + format((m-n)/m*100, '.2f') + \"%\") "
   ]
  },
  {
   "cell_type": "code",
   "execution_count": 4,
   "metadata": {},
   "outputs": [
    {
     "name": "stdout",
     "output_type": "stream",
     "text": [
      "Test data Accuracy = 53.67%\n",
      "Valid data Accuracy = 52.02%\n"
     ]
    }
   ],
   "source": [
    "#fit and check accuracy of Random Forest model on both test and valid dataset\n",
    "clf = RandomForestClassifier()\n",
    "clf.fit(x_train, y_train)\n",
    "y_test_pred = clf.predict(x_test)\n",
    "m = y_test.shape[0]\n",
    "n = (y_test != y_test_pred).sum()\n",
    "print(\"Test data Accuracy = \" + format((m-n)/m*100, '.2f') + \"%\") \n",
    "y_valid_pred = clf.predict(x_valid)\n",
    "m = y_valid.shape[0]\n",
    "n = (y_valid != y_valid_pred).sum()\n",
    "print(\"Valid data Accuracy = \" + format((m-n)/m*100, '.2f') + \"%\") "
   ]
  },
  {
   "cell_type": "code",
   "execution_count": 5,
   "metadata": {},
   "outputs": [
    {
     "name": "stdout",
     "output_type": "stream",
     "text": [
      "Test data Accuracy = 54.14%\n",
      "Valid data Accuracy = 49.14%\n"
     ]
    }
   ],
   "source": [
    "#fit and check accuracy of KNN model on both test and valid dataset\n",
    "clf = KNeighborsClassifier(n_neighbors = 5, metric = 'minkowski', p = 2)\n",
    "clf.fit(x_train, y_train)\n",
    "y_test_pred = clf.predict(x_test)\n",
    "m = y_test.shape[0]\n",
    "n = (y_test != y_test_pred).sum()\n",
    "print(\"Test data Accuracy = \" + format((m-n)/m*100, '.2f') + \"%\") \n",
    "y_valid_pred = clf.predict(x_valid)\n",
    "m = y_valid.shape[0]\n",
    "n = (y_valid != y_valid_pred).sum()\n",
    "print(\"Valid data Accuracy = \" + format((m-n)/m*100, '.2f') + \"%\") "
   ]
  },
  {
   "cell_type": "code",
   "execution_count": 6,
   "metadata": {},
   "outputs": [
    {
     "name": "stdout",
     "output_type": "stream",
     "text": [
      "Test data Accuracy = 56.35%\n",
      "Valid data Accuracy = 52.02%\n"
     ]
    }
   ],
   "source": [
    "#fit and check accuracy of Logistic Regression model on both test and valid dataset\n",
    "clf = LogisticRegression(random_state = 0)\n",
    "clf.fit(x_train, y_train)\n",
    "y_test_pred = clf.predict(x_test)\n",
    "m = y_test.shape[0]\n",
    "n = (y_test != y_test_pred).sum()\n",
    "print(\"Test data Accuracy = \" + format((m-n)/m*100, '.2f') + \"%\") \n",
    "y_valid_pred = clf.predict(x_valid)\n",
    "m = y_valid.shape[0]\n",
    "n = (y_valid != y_valid_pred).sum()\n",
    "print(\"Valid data Accuracy = \" + format((m-n)/m*100, '.2f') + \"%\") "
   ]
  }
 ],
 "metadata": {
  "kernelspec": {
   "display_name": "Python 3",
   "language": "python",
   "name": "python3"
  },
  "language_info": {
   "codemirror_mode": {
    "name": "ipython",
    "version": 3
   },
   "file_extension": ".py",
   "mimetype": "text/x-python",
   "name": "python",
   "nbconvert_exporter": "python",
   "pygments_lexer": "ipython3",
   "version": "3.7.3"
  }
 },
 "nbformat": 4,
 "nbformat_minor": 4
}
