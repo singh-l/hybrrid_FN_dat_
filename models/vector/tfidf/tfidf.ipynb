{
 "cells": [
  {
   "cell_type": "markdown",
   "metadata": {},
   "source": [
    "### This is the module where the performance of classical ML models is tested using tfidf "
   ]
  },
  {
   "cell_type": "code",
   "execution_count": 1,
   "metadata": {},
   "outputs": [],
   "source": [
    "#make the necessary imports\n",
    "import numpy as np\n",
    "import pandas as pd\n",
    "import itertools\n",
    "from sklearn.model_selection import train_test_split\n",
    "from sklearn.feature_extraction.text import TfidfVectorizer\n",
    "from sklearn.metrics import accuracy_score, confusion_matrix\n",
    "from sklearn.ensemble import RandomForestClassifier\n",
    "from sklearn.neighbors import KNeighborsClassifier\n",
    "from sklearn.svm import SVC\n",
    "from sklearn.linear_model import LogisticRegression"
   ]
  },
  {
   "cell_type": "code",
   "execution_count": 2,
   "metadata": {},
   "outputs": [],
   "source": [
    "#Read the data\n",
    "df=pd.read_csv('../../../datasets/liar_tweaked/trainvectordata.csv')\n",
    "testdf=pd.read_csv('../../../datasets/liar_tweaked/testvectordata.csv')\n",
    "validdf=pd.read_csv('../../../datasets/liar_tweaked/validvectordata.csv')"
   ]
  },
  {
   "cell_type": "code",
   "execution_count": 3,
   "metadata": {},
   "outputs": [],
   "source": [
    "#get training set\n",
    "#two sets for testing accuracy, test set and valid set, all provided in the LIAR dataset\n",
    "x_train,y_train=df['statement'],df['label']\n",
    "x_test,y_test=testdf['statement'],testdf['label']\n",
    "x_valid,y_valid=validdf['statement'],validdf['label']"
   ]
  },
  {
   "cell_type": "code",
   "execution_count": 4,
   "metadata": {},
   "outputs": [],
   "source": [
    "#create tfidf vectors\n",
    "tfidf_vectorizer=TfidfVectorizer(stop_words='english', max_df=0.7)\n",
    "tfidf_train=tfidf_vectorizer.fit_transform(df['statement']) \n",
    "tfidf_test=tfidf_vectorizer.transform(testdf['statement'])  \n",
    "tfidf_valid=tfidf_vectorizer.transform(validdf['statement'])  "
   ]
  },
  {
   "cell_type": "code",
   "execution_count": 5,
   "metadata": {},
   "outputs": [
    {
     "data": {
      "text/plain": [
       "<1267x11915 sparse matrix of type '<class 'numpy.float64'>'\n",
       "\twith 12177 stored elements in Compressed Sparse Row format>"
      ]
     },
     "execution_count": 5,
     "metadata": {},
     "output_type": "execute_result"
    }
   ],
   "source": [
    "#check the shape\n",
    "tfidf_train\n",
    "tfidf_test"
   ]
  },
  {
   "cell_type": "code",
   "execution_count": 6,
   "metadata": {},
   "outputs": [
    {
     "data": {
      "text/plain": [
       "RandomForestClassifier(bootstrap=True, ccp_alpha=0.0, class_weight=None,\n",
       "                       criterion='entropy', max_depth=None, max_features='auto',\n",
       "                       max_leaf_nodes=None, max_samples=None,\n",
       "                       min_impurity_decrease=0.0, min_impurity_split=None,\n",
       "                       min_samples_leaf=1, min_samples_split=2,\n",
       "                       min_weight_fraction_leaf=0.0, n_estimators=300,\n",
       "                       n_jobs=None, oob_score=False, random_state=0, verbose=0,\n",
       "                       warm_start=False)"
      ]
     },
     "execution_count": 6,
     "metadata": {},
     "output_type": "execute_result"
    }
   ],
   "source": [
    "#fit the classical ML models\n",
    "LogicalRegressionclassifier = LogisticRegression(random_state = 0)\n",
    "LogicalRegressionclassifier.fit(tfidf_train,y_train)\n",
    "SVMclassifier = SVC()\n",
    "SVMclassifier.fit(tfidf_train,y_train)\n",
    "KNNclassifier = KNeighborsClassifier(n_neighbors = 5, metric = 'minkowski', p = 2)\n",
    "KNNclassifier.fit(tfidf_train,y_train)\n",
    "Randomforestclassifier = RandomForestClassifier(n_estimators = 300, criterion = 'entropy', random_state = 0)\n",
    "Randomforestclassifier.fit(tfidf_train,y_train)"
   ]
  },
  {
   "cell_type": "code",
   "execution_count": 7,
   "metadata": {},
   "outputs": [],
   "source": [
    "#get the predictions on both test and valid dataset using the models\n",
    "\n",
    "KNN_y_test_predict = KNNclassifier.predict(tfidf_test)\n",
    "\n",
    "SVM_y_test_predict = SVMclassifier.predict(tfidf_test)\n",
    "\n",
    "Randomforest_y_test_predict = Randomforestclassifier.predict(tfidf_test)\n",
    "\n",
    "LogicalRegression_y_test_predict = LogicalRegressionclassifier.predict(tfidf_test)\n",
    "\n",
    "\n",
    "\n",
    "\n",
    "KNN_y_valid_predict = KNNclassifier.predict(tfidf_valid)\n",
    "\n",
    "SVM_y_valid_predict = SVMclassifier.predict(tfidf_valid)\n",
    "\n",
    "Randomforest_y_valid_predict = Randomforestclassifier.predict(tfidf_valid)\n",
    "\n",
    "LogicalRegression_y_valid_predict = LogicalRegressionclassifier.predict(tfidf_valid)"
   ]
  },
  {
   "cell_type": "code",
   "execution_count": 9,
   "metadata": {},
   "outputs": [
    {
     "name": "stdout",
     "output_type": "stream",
     "text": [
      "algorithm - test dataset accuracy - valid dataset accuracy\n",
      "KNN -  0.5706 -  0.5561\n",
      "SVM -  0.6172 -  0.6129\n",
      "Random Forest -  0.6156 -  0.6129\n",
      "Logical Regression -  0.6164 -  0.595\n"
     ]
    }
   ],
   "source": [
    "#check the accuracy of the models\n",
    "\n",
    "print('algorithm - test dataset accuracy - valid dataset accuracy')\n",
    "print('KNN - ' ,round(accuracy_score(y_test, KNN_y_test_predict),4),'- '\n",
    "      ,round(accuracy_score(y_valid, KNN_y_valid_predict),4))\n",
    "print('SVM - ' ,round(accuracy_score(y_test, SVM_y_test_predict),4), '- '\n",
    "     ,round(accuracy_score(y_valid, SVM_y_valid_predict),4))\n",
    "print('Random Forest - ', round(accuracy_score(y_test, Randomforest_y_test_predict),4), '- '\n",
    "     ,round(accuracy_score(y_valid, Randomforest_y_valid_predict),4))\n",
    "print('Logical Regression - ', round(accuracy_score(y_test, LogicalRegression_y_test_predict),4), '- '\n",
    "     ,round(accuracy_score(y_valid, LogicalRegression_y_valid_predict),4))"
   ]
  }
 ],
 "metadata": {
  "kernelspec": {
   "display_name": "Python 3",
   "language": "python",
   "name": "python3"
  },
  "language_info": {
   "codemirror_mode": {
    "name": "ipython",
    "version": 3
   },
   "file_extension": ".py",
   "mimetype": "text/x-python",
   "name": "python",
   "nbconvert_exporter": "python",
   "pygments_lexer": "ipython3",
   "version": "3.7.3"
  }
 },
 "nbformat": 4,
 "nbformat_minor": 4
}
