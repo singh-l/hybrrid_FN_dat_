{
 "cells": [
  {
   "cell_type": "markdown",
   "metadata": {},
   "source": [
    "### This module runs ANN on Doc2Vec"
   ]
  },
  {
   "cell_type": "code",
   "execution_count": 1,
   "metadata": {},
   "outputs": [],
   "source": [
    "#make necessary imports\n",
    "from getEmbeddings import getEmbeddings\n",
    "import numpy as np\n",
    "import itertools\n",
    "from sklearn.metrics import accuracy_score, confusion_matrix\n",
    "from sklearn.ensemble import RandomForestClassifier\n",
    "from sklearn.neighbors import KNeighborsClassifier\n",
    "from sklearn.svm import SVC\n",
    "from sklearn.linear_model import LogisticRegression\n",
    "from sklearn.model_selection import train_test_split\n",
    "from sklearn.preprocessing import StandardScaler"
   ]
  },
  {
   "cell_type": "code",
   "execution_count": 2,
   "metadata": {},
   "outputs": [],
   "source": [
    "#get the dataset, use getembeddings to get the Doc2Vec representations, it gives 300 dimension vectors\n",
    "x_train,y_train = getEmbeddings('../../datasets/liar_tweaked/trainvectordata.csv')\n",
    "x_test,y_test = getEmbeddings('../../datasets/liar_tweaked/testvectordata.csv')\n",
    "x_valid,y_valid = getEmbeddings('../../datasets/liar_tweaked/validvectordata.csv')"
   ]
  },
  {
   "cell_type": "code",
   "execution_count": 3,
   "metadata": {},
   "outputs": [
    {
     "data": {
      "text/plain": [
       "300"
      ]
     },
     "execution_count": 3,
     "metadata": {},
     "output_type": "execute_result"
    }
   ],
   "source": [
    "len(x_train[0])"
   ]
  },
  {
   "cell_type": "code",
   "execution_count": 4,
   "metadata": {},
   "outputs": [],
   "source": [
    "#building the classifier\n",
    "def build_classifier():\n",
    "    clf=Sequential()\n",
    "    clf.add(Dense(output_dim=150,init='uniform',activation='relu',input_dim=300))\n",
    "    clf.add(Dense(output_dim=75,init='uniform',activation='relu'))\n",
    "    clf.add(Dense(output_dim=37,init='uniform',activation='relu'))\n",
    "    clf.add(Dense(output_dim=18,init='uniform',activation='relu'))\n",
    "    clf.add(Dense(output_dim=9,init='uniform',activation='relu'))\n",
    "    clf.add(Dense(output_dim=4,init='uniform',activation='relu'))\n",
    "    clf.add(Dense(output_dim=2,init='uniform',activation='relu'))\n",
    "    clf.add(Dense(output_dim=1,init='uniform',activation='sigmoid'))\n",
    "    clf.compile(optimizer='adam', loss='binary_crossentropy',metrics=['accuracy'])\n",
    "    return clf"
   ]
  },
  {
   "cell_type": "code",
   "execution_count": 5,
   "metadata": {},
   "outputs": [
    {
     "name": "stderr",
     "output_type": "stream",
     "text": [
      "Using TensorFlow backend.\n"
     ]
    }
   ],
   "source": [
    "#make necessary imports\n",
    "import keras\n",
    "from keras.models import Sequential\n",
    "from keras.layers import Dense\n",
    "from keras.wrappers.scikit_learn import KerasClassifier\n",
    "from sklearn.model_selection import cross_val_score\n",
    "\n",
    "#build ANN, use k fold cross validation\n",
    "clf=KerasClassifier(build_fn=build_classifier, batch_size=10, nb_epoch=100)\n",
    "accuracies=cross_val_score(estimator=clf, X=x_train,y=y_train,cv=10,n_jobs=-1)"
   ]
  },
  {
   "cell_type": "code",
   "execution_count": 6,
   "metadata": {},
   "outputs": [
    {
     "data": {
      "text/plain": [
       "array([0.56891495, 0.54349953, 0.54740959, 0.57478005, 0.56304985,\n",
       "       0.58260018, 0.56402737, 0.57966763, 0.54740959, 0.5479452 ])"
      ]
     },
     "execution_count": 6,
     "metadata": {},
     "output_type": "execute_result"
    }
   ],
   "source": [
    "#see accuracies\n",
    "accuracies"
   ]
  },
  {
   "cell_type": "code",
   "execution_count": 7,
   "metadata": {},
   "outputs": [
    {
     "name": "stderr",
     "output_type": "stream",
     "text": [
      "/Users/lovedeepsingh/anaconda3/lib/python3.7/site-packages/ipykernel_launcher.py:4: UserWarning: Update your `Dense` call to the Keras 2 API: `Dense(activation=\"relu\", input_dim=300, units=150, kernel_initializer=\"uniform\")`\n",
      "  after removing the cwd from sys.path.\n",
      "/Users/lovedeepsingh/anaconda3/lib/python3.7/site-packages/ipykernel_launcher.py:5: UserWarning: Update your `Dense` call to the Keras 2 API: `Dense(activation=\"relu\", units=75, kernel_initializer=\"uniform\")`\n",
      "  \"\"\"\n",
      "/Users/lovedeepsingh/anaconda3/lib/python3.7/site-packages/ipykernel_launcher.py:6: UserWarning: Update your `Dense` call to the Keras 2 API: `Dense(activation=\"relu\", units=37, kernel_initializer=\"uniform\")`\n",
      "  \n",
      "/Users/lovedeepsingh/anaconda3/lib/python3.7/site-packages/ipykernel_launcher.py:7: UserWarning: Update your `Dense` call to the Keras 2 API: `Dense(activation=\"relu\", units=18, kernel_initializer=\"uniform\")`\n",
      "  import sys\n",
      "/Users/lovedeepsingh/anaconda3/lib/python3.7/site-packages/ipykernel_launcher.py:8: UserWarning: Update your `Dense` call to the Keras 2 API: `Dense(activation=\"relu\", units=9, kernel_initializer=\"uniform\")`\n",
      "  \n",
      "/Users/lovedeepsingh/anaconda3/lib/python3.7/site-packages/ipykernel_launcher.py:9: UserWarning: Update your `Dense` call to the Keras 2 API: `Dense(activation=\"relu\", units=4, kernel_initializer=\"uniform\")`\n",
      "  if __name__ == '__main__':\n",
      "/Users/lovedeepsingh/anaconda3/lib/python3.7/site-packages/ipykernel_launcher.py:10: UserWarning: Update your `Dense` call to the Keras 2 API: `Dense(activation=\"relu\", units=2, kernel_initializer=\"uniform\")`\n",
      "  # Remove the CWD from sys.path while we load stuff.\n",
      "/Users/lovedeepsingh/anaconda3/lib/python3.7/site-packages/ipykernel_launcher.py:11: UserWarning: Update your `Dense` call to the Keras 2 API: `Dense(activation=\"sigmoid\", units=1, kernel_initializer=\"uniform\")`\n",
      "  # This is added back by InteractiveShellApp.init_path()\n",
      "/Users/lovedeepsingh/anaconda3/lib/python3.7/site-packages/keras/wrappers/scikit_learn.py:151: UserWarning: The `nb_epoch` argument in `fit` has been renamed `epochs`.\n",
      "  history = self.model.fit(x, y, **fit_args)\n"
     ]
    },
    {
     "name": "stdout",
     "output_type": "stream",
     "text": [
      "Epoch 1/100\n",
      "10229/10229 [==============================] - 18s 2ms/step - loss: 0.6877 - accuracy: 0.5617\n",
      "Epoch 2/100\n",
      "10229/10229 [==============================] - 11s 1ms/step - loss: 0.6856 - accuracy: 0.5619\n",
      "Epoch 3/100\n",
      "10229/10229 [==============================] - 12s 1ms/step - loss: 0.6855 - accuracy: 0.5619\n",
      "Epoch 4/100\n",
      "10229/10229 [==============================] - 11s 1ms/step - loss: 0.6855 - accuracy: 0.5619\n",
      "Epoch 5/100\n",
      "10229/10229 [==============================] - 11s 1ms/step - loss: 0.6855 - accuracy: 0.5619\n",
      "Epoch 6/100\n",
      "10229/10229 [==============================] - 11s 1ms/step - loss: 0.6855 - accuracy: 0.5619\n",
      "Epoch 7/100\n",
      "10229/10229 [==============================] - 10s 978us/step - loss: 0.6855 - accuracy: 0.5619\n",
      "Epoch 8/100\n",
      "10229/10229 [==============================] - 12s 1ms/step - loss: 0.6855 - accuracy: 0.5619\n",
      "Epoch 9/100\n",
      "10229/10229 [==============================] - 9s 882us/step - loss: 0.6855 - accuracy: 0.5619\n",
      "Epoch 10/100\n",
      "10229/10229 [==============================] - 10s 1ms/step - loss: 0.6855 - accuracy: 0.5619\n",
      "Epoch 11/100\n",
      "10229/10229 [==============================] - 11s 1ms/step - loss: 0.6855 - accuracy: 0.5619\n",
      "Epoch 12/100\n",
      "10229/10229 [==============================] - 11s 1ms/step - loss: 0.6855 - accuracy: 0.5619\n",
      "Epoch 13/100\n",
      "10229/10229 [==============================] - 11s 1ms/step - loss: 0.6855 - accuracy: 0.5619\n",
      "Epoch 14/100\n",
      "10229/10229 [==============================] - 10s 962us/step - loss: 0.6855 - accuracy: 0.5619\n",
      "Epoch 15/100\n",
      "10229/10229 [==============================] - 10s 946us/step - loss: 0.6855 - accuracy: 0.5619\n",
      "Epoch 16/100\n",
      "10229/10229 [==============================] - 10s 946us/step - loss: 0.6855 - accuracy: 0.5619\n",
      "Epoch 17/100\n",
      "10229/10229 [==============================] - 10s 948us/step - loss: 0.6855 - accuracy: 0.5619\n",
      "Epoch 18/100\n",
      "10229/10229 [==============================] - 10s 936us/step - loss: 0.6855 - accuracy: 0.5619\n",
      "Epoch 19/100\n",
      "10229/10229 [==============================] - 10s 946us/step - loss: 0.6856 - accuracy: 0.5619\n",
      "Epoch 20/100\n",
      "10229/10229 [==============================] - 10s 929us/step - loss: 0.6855 - accuracy: 0.5619\n",
      "Epoch 21/100\n",
      "10229/10229 [==============================] - 10s 985us/step - loss: 0.6855 - accuracy: 0.5619\n",
      "Epoch 22/100\n",
      "10229/10229 [==============================] - 9s 909us/step - loss: 0.6855 - accuracy: 0.5619\n",
      "Epoch 23/100\n",
      "10229/10229 [==============================] - 8s 769us/step - loss: 0.6855 - accuracy: 0.5619\n",
      "Epoch 24/100\n",
      "10229/10229 [==============================] - 8s 767us/step - loss: 0.6855 - accuracy: 0.5619\n",
      "Epoch 25/100\n",
      "10229/10229 [==============================] - 8s 772us/step - loss: 0.6855 - accuracy: 0.5619\n",
      "Epoch 26/100\n",
      "10229/10229 [==============================] - 8s 767us/step - loss: 0.6855 - accuracy: 0.5619\n",
      "Epoch 27/100\n",
      "10229/10229 [==============================] - 8s 761us/step - loss: 0.6855 - accuracy: 0.5619\n",
      "Epoch 28/100\n",
      "10229/10229 [==============================] - 8s 754us/step - loss: 0.6855 - accuracy: 0.5619\n",
      "Epoch 29/100\n",
      "10229/10229 [==============================] - 8s 803us/step - loss: 0.6855 - accuracy: 0.5619\n",
      "Epoch 30/100\n",
      "10229/10229 [==============================] - 8s 789us/step - loss: 0.6855 - accuracy: 0.5619\n",
      "Epoch 31/100\n",
      "10229/10229 [==============================] - 8s 763us/step - loss: 0.6855 - accuracy: 0.5619\n",
      "Epoch 32/100\n",
      "10229/10229 [==============================] - 8s 765us/step - loss: 0.6855 - accuracy: 0.5619\n",
      "Epoch 33/100\n",
      "10229/10229 [==============================] - 8s 781us/step - loss: 0.6855 - accuracy: 0.5619\n",
      "Epoch 34/100\n",
      "10229/10229 [==============================] - 8s 761us/step - loss: 0.6855 - accuracy: 0.5619\n",
      "Epoch 35/100\n",
      "10229/10229 [==============================] - 8s 759us/step - loss: 0.6855 - accuracy: 0.5619\n",
      "Epoch 36/100\n",
      "10229/10229 [==============================] - 8s 778us/step - loss: 0.6855 - accuracy: 0.5619\n",
      "Epoch 37/100\n",
      "10229/10229 [==============================] - 8s 773us/step - loss: 0.6855 - accuracy: 0.5619\n",
      "Epoch 38/100\n",
      "10229/10229 [==============================] - 9s 897us/step - loss: 0.6855 - accuracy: 0.5619\n",
      "Epoch 39/100\n",
      "10229/10229 [==============================] - 8s 759us/step - loss: 0.6855 - accuracy: 0.5619\n",
      "Epoch 40/100\n",
      "10229/10229 [==============================] - 7s 723us/step - loss: 0.6855 - accuracy: 0.5619\n",
      "Epoch 41/100\n",
      "10229/10229 [==============================] - 7s 723us/step - loss: 0.6855 - accuracy: 0.5619\n",
      "Epoch 42/100\n",
      "10229/10229 [==============================] - 7s 723us/step - loss: 0.6855 - accuracy: 0.5619\n",
      "Epoch 43/100\n",
      "10229/10229 [==============================] - 8s 738us/step - loss: 0.6855 - accuracy: 0.5619\n",
      "Epoch 44/100\n",
      "10229/10229 [==============================] - 7s 733us/step - loss: 0.6855 - accuracy: 0.5619\n",
      "Epoch 45/100\n",
      "10229/10229 [==============================] - 7s 721us/step - loss: 0.6855 - accuracy: 0.5619\n",
      "Epoch 46/100\n",
      "10229/10229 [==============================] - 7s 727us/step - loss: 0.6855 - accuracy: 0.5619\n",
      "Epoch 47/100\n",
      "10229/10229 [==============================] - 7s 722us/step - loss: 0.6855 - accuracy: 0.5619\n",
      "Epoch 48/100\n",
      "10229/10229 [==============================] - 8s 793us/step - loss: 0.6855 - accuracy: 0.5619\n",
      "Epoch 49/100\n",
      "10229/10229 [==============================] - 8s 773us/step - loss: 0.6855 - accuracy: 0.5619\n",
      "Epoch 50/100\n",
      "10229/10229 [==============================] - 7s 723us/step - loss: 0.6855 - accuracy: 0.5619\n",
      "Epoch 51/100\n",
      "10229/10229 [==============================] - 7s 731us/step - loss: 0.6855 - accuracy: 0.5619\n",
      "Epoch 52/100\n",
      "10229/10229 [==============================] - 7s 723us/step - loss: 0.6855 - accuracy: 0.5619\n",
      "Epoch 53/100\n",
      "10229/10229 [==============================] - 7s 728us/step - loss: 0.6855 - accuracy: 0.5619\n",
      "Epoch 54/100\n",
      "10229/10229 [==============================] - 7s 730us/step - loss: 0.6855 - accuracy: 0.5619\n",
      "Epoch 55/100\n",
      "10229/10229 [==============================] - 8s 735us/step - loss: 0.6855 - accuracy: 0.5619\n",
      "Epoch 56/100\n",
      "10229/10229 [==============================] - 7s 723us/step - loss: 0.6855 - accuracy: 0.5619\n",
      "Epoch 57/100\n",
      "10229/10229 [==============================] - 7s 724us/step - loss: 0.6855 - accuracy: 0.5619\n",
      "Epoch 58/100\n",
      "10229/10229 [==============================] - 7s 731us/step - loss: 0.6855 - accuracy: 0.5619\n",
      "Epoch 59/100\n",
      "10229/10229 [==============================] - 8s 754us/step - loss: 0.6855 - accuracy: 0.5619\n",
      "Epoch 60/100\n",
      "10229/10229 [==============================] - 7s 729us/step - loss: 0.6855 - accuracy: 0.5619\n",
      "Epoch 61/100\n",
      "10229/10229 [==============================] - 7s 729us/step - loss: 0.6855 - accuracy: 0.5619\n",
      "Epoch 62/100\n",
      "10229/10229 [==============================] - 7s 733us/step - loss: 0.6855 - accuracy: 0.5619\n",
      "Epoch 63/100\n",
      "10229/10229 [==============================] - 8s 737us/step - loss: 0.6855 - accuracy: 0.5619\n",
      "Epoch 64/100\n",
      "10229/10229 [==============================] - 8s 814us/step - loss: 0.6855 - accuracy: 0.5619\n",
      "Epoch 65/100\n",
      "10229/10229 [==============================] - 8s 791us/step - loss: 0.6855 - accuracy: 0.5619\n",
      "Epoch 66/100\n",
      "10229/10229 [==============================] - 9s 872us/step - loss: 0.6855 - accuracy: 0.5619\n",
      "Epoch 67/100\n",
      "10229/10229 [==============================] - 9s 896us/step - loss: 0.6855 - accuracy: 0.5619\n",
      "Epoch 68/100\n",
      "10229/10229 [==============================] - 8s 821us/step - loss: 0.6855 - accuracy: 0.5619\n",
      "Epoch 69/100\n",
      "10229/10229 [==============================] - 8s 826us/step - loss: 0.6856 - accuracy: 0.5619\n",
      "Epoch 70/100\n",
      "10229/10229 [==============================] - 8s 752us/step - loss: 0.6855 - accuracy: 0.5619\n",
      "Epoch 71/100\n",
      "10229/10229 [==============================] - 8s 743us/step - loss: 0.6855 - accuracy: 0.5619\n",
      "Epoch 72/100\n",
      "10229/10229 [==============================] - 8s 736us/step - loss: 0.6855 - accuracy: 0.5619\n",
      "Epoch 73/100\n",
      "10229/10229 [==============================] - 8s 768us/step - loss: 0.6855 - accuracy: 0.5619\n",
      "Epoch 74/100\n",
      "10229/10229 [==============================] - 8s 742us/step - loss: 0.6855 - accuracy: 0.5619\n",
      "Epoch 75/100\n",
      "10229/10229 [==============================] - 8s 744us/step - loss: 0.6855 - accuracy: 0.5619\n",
      "Epoch 76/100\n",
      "10229/10229 [==============================] - 8s 768us/step - loss: 0.6855 - accuracy: 0.5619\n"
     ]
    },
    {
     "name": "stdout",
     "output_type": "stream",
     "text": [
      "Epoch 77/100\n",
      "10229/10229 [==============================] - 8s 756us/step - loss: 0.6855 - accuracy: 0.5619\n",
      "Epoch 78/100\n",
      "10229/10229 [==============================] - 8s 779us/step - loss: 0.6855 - accuracy: 0.5619\n",
      "Epoch 79/100\n",
      "10229/10229 [==============================] - 9s 881us/step - loss: 0.6855 - accuracy: 0.5619\n",
      "Epoch 80/100\n",
      "10229/10229 [==============================] - 8s 751us/step - loss: 0.6855 - accuracy: 0.5619\n",
      "Epoch 81/100\n",
      "10229/10229 [==============================] - 8s 742us/step - loss: 0.6855 - accuracy: 0.5619\n",
      "Epoch 82/100\n",
      "10229/10229 [==============================] - 8s 783us/step - loss: 0.6855 - accuracy: 0.5619\n",
      "Epoch 83/100\n",
      "10229/10229 [==============================] - 8s 761us/step - loss: 0.6855 - accuracy: 0.5619\n",
      "Epoch 84/100\n",
      "10229/10229 [==============================] - 8s 760us/step - loss: 0.6855 - accuracy: 0.5619\n",
      "Epoch 85/100\n",
      "10229/10229 [==============================] - 8s 759us/step - loss: 0.6855 - accuracy: 0.5619\n",
      "Epoch 86/100\n",
      "10229/10229 [==============================] - 16s 2ms/step - loss: 0.6855 - accuracy: 0.5619\n",
      "Epoch 87/100\n",
      "10229/10229 [==============================] - 9s 835us/step - loss: 0.6855 - accuracy: 0.5619\n",
      "Epoch 88/100\n",
      "10229/10229 [==============================] - 8s 788us/step - loss: 0.6855 - accuracy: 0.5619\n",
      "Epoch 89/100\n",
      "10229/10229 [==============================] - 8s 798us/step - loss: 0.6855 - accuracy: 0.5619\n",
      "Epoch 90/100\n",
      "10229/10229 [==============================] - 8s 763us/step - loss: 0.6855 - accuracy: 0.5619\n",
      "Epoch 91/100\n",
      "10229/10229 [==============================] - 8s 807us/step - loss: 0.6855 - accuracy: 0.5619\n",
      "Epoch 92/100\n",
      "10229/10229 [==============================] - 8s 795us/step - loss: 0.6855 - accuracy: 0.5619\n",
      "Epoch 93/100\n",
      "10229/10229 [==============================] - 8s 791us/step - loss: 0.6855 - accuracy: 0.5619\n",
      "Epoch 94/100\n",
      "10229/10229 [==============================] - 8s 766us/step - loss: 0.6856 - accuracy: 0.5619\n",
      "Epoch 95/100\n",
      "10229/10229 [==============================] - 8s 768us/step - loss: 0.6855 - accuracy: 0.5619\n",
      "Epoch 96/100\n",
      "10229/10229 [==============================] - 8s 780us/step - loss: 0.6855 - accuracy: 0.5619\n",
      "Epoch 97/100\n",
      "10229/10229 [==============================] - 8s 772us/step - loss: 0.6855 - accuracy: 0.5619\n",
      "Epoch 98/100\n",
      "10229/10229 [==============================] - 8s 787us/step - loss: 0.6855 - accuracy: 0.5619\n",
      "Epoch 99/100\n",
      "10229/10229 [==============================] - 8s 820us/step - loss: 0.6855 - accuracy: 0.5619\n",
      "Epoch 100/100\n",
      "10229/10229 [==============================] - 9s 837us/step - loss: 0.6855 - accuracy: 0.5619\n",
      "algorithm - test dataset accuracy - valid dataset accuracy\n",
      "ANNDoc2Vec -  0.5635  - 0.5202\n"
     ]
    }
   ],
   "source": [
    "#fit on training data and check accuracies on both test and valid data\n",
    "clf.fit(x_train,y_train, batch_size=10, nb_epoch=100)\n",
    "y_test_pred = clf.predict(x_test)\n",
    "print('algorithm - test dataset accuracy - valid dataset accuracy')\n",
    "print('ANNDoc2Vec - ' ,round(accuracy_score(y_test, y_test_pred),4), ' - ', end='')\n",
    "y_test_pred = clf.predict(x_valid)\n",
    "print(round(accuracy_score(y_valid, y_test_pred),4))"
   ]
  }
 ],
 "metadata": {
  "kernelspec": {
   "display_name": "Python 3",
   "language": "python",
   "name": "python3"
  },
  "language_info": {
   "codemirror_mode": {
    "name": "ipython",
    "version": 3
   },
   "file_extension": ".py",
   "mimetype": "text/x-python",
   "name": "python",
   "nbconvert_exporter": "python",
   "pygments_lexer": "ipython3",
   "version": "3.7.3"
  }
 },
 "nbformat": 4,
 "nbformat_minor": 4
}
