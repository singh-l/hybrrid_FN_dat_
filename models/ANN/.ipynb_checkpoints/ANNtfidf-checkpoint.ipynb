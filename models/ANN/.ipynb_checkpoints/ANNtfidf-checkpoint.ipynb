{
 "cells": [
  {
   "cell_type": "markdown",
   "metadata": {},
   "source": [
    "### This module runs ANN on TFIDF"
   ]
  },
  {
   "cell_type": "code",
   "execution_count": 9,
   "metadata": {},
   "outputs": [],
   "source": [
    "#make necessary imports\n",
    "import numpy as np\n",
    "import pandas as pd\n",
    "import itertools\n",
    "from sklearn.model_selection import train_test_split\n",
    "from sklearn.feature_extraction.text import TfidfVectorizer\n",
    "from sklearn.metrics import accuracy_score, confusion_matrix\n",
    "from sklearn.ensemble import RandomForestClassifier\n",
    "from sklearn.neighbors import KNeighborsClassifier\n",
    "from sklearn.svm import SVC\n",
    "from sklearn.linear_model import LogisticRegression"
   ]
  },
  {
   "cell_type": "code",
   "execution_count": 10,
   "metadata": {},
   "outputs": [],
   "source": [
    "#Read the data\n",
    "df=pd.read_csv('../../datasets/liar_tweaked/trainvectordata.csv')\n",
    "testdf=pd.read_csv('../../datasets/liar_tweaked/testvectordata.csv')\n",
    "validdf=pd.read_csv('../../datasets/liar_tweaked/validvectordata.csv')"
   ]
  },
  {
   "cell_type": "code",
   "execution_count": 11,
   "metadata": {},
   "outputs": [],
   "source": [
    "x_train,y_train=df['statement'],df['label']\n",
    "x_test,y_test=testdf['statement'],testdf['label']\n",
    "x_valid,y_valid=validdf['statement'],validdf['label']"
   ]
  },
  {
   "cell_type": "code",
   "execution_count": 12,
   "metadata": {},
   "outputs": [],
   "source": [
    "#tfidf\n",
    "tfidf_vectorizer=TfidfVectorizer(stop_words='english', max_df=0.7)\n",
    "tfidf_train=tfidf_vectorizer.fit_transform(df['statement']) \n",
    "tfidf_test=tfidf_vectorizer.transform(testdf['statement'])  \n",
    "tfidf_valid=tfidf_vectorizer.transform(validdf['statement'])  "
   ]
  },
  {
   "cell_type": "code",
   "execution_count": 13,
   "metadata": {},
   "outputs": [
    {
     "data": {
      "text/plain": [
       "<10229x11915 sparse matrix of type '<class 'numpy.float64'>'\n",
       "\twith 101480 stored elements in Compressed Sparse Row format>"
      ]
     },
     "execution_count": 13,
     "metadata": {},
     "output_type": "execute_result"
    }
   ],
   "source": [
    "tfidf_train"
   ]
  },
  {
   "cell_type": "code",
   "execution_count": 17,
   "metadata": {},
   "outputs": [],
   "source": [
    "#building the classifier\n",
    "def build_classifier():\n",
    "    clf=Sequential()\n",
    "    clf.add(Dense(output_dim=500,init='uniform',activation='relu',input_dim=11915))\n",
    "    clf.add(Dense(output_dim=100,init='uniform',activation='relu'))\n",
    "    clf.add(Dense(output_dim=50,init='uniform',activation='relu'))\n",
    "    clf.add(Dense(output_dim=20,init='uniform',activation='relu'))\n",
    "    clf.add(Dense(output_dim=10,init='uniform',activation='relu'))\n",
    "    clf.add(Dense(output_dim=5,init='uniform',activation='relu'))\n",
    "    clf.add(Dense(output_dim=1,init='uniform',activation='sigmoid'))\n",
    "    clf.compile(optimizer='adam', loss='binary_crossentropy',metrics=['accuracy'])\n",
    "    return clf"
   ]
  },
  {
   "cell_type": "code",
   "execution_count": 21,
   "metadata": {},
   "outputs": [],
   "source": [
    "#make necessary imports\n",
    "import keras\n",
    "from keras.models import Sequential\n",
    "from keras.layers import Dense\n",
    "from keras.wrappers.scikit_learn import KerasClassifier\n",
    "from sklearn.model_selection import cross_val_score\n",
    "\n",
    "#build ANN, use k fold cross validation\n",
    "clf=KerasClassifier(build_fn=build_classifier, batch_size=10, nb_epoch=100)\n",
    "accuracies=cross_val_score(estimator=clf, X=tfidf_train,y=df['label'],cv=10,n_jobs=-1)"
   ]
  },
  {
   "cell_type": "code",
   "execution_count": 22,
   "metadata": {},
   "outputs": [
    {
     "data": {
      "text/plain": [
       "array([0.58846527, 0.58064514, 0.54740959, 0.6168133 , 0.56304985,\n",
       "       0.58260018, 0.56402737, 0.57966763, 0.54740959, 0.62133074])"
      ]
     },
     "execution_count": 22,
     "metadata": {},
     "output_type": "execute_result"
    }
   ],
   "source": [
    "#see accuracies\n",
    "accuracies"
   ]
  },
  {
   "cell_type": "code",
   "execution_count": 20,
   "metadata": {},
   "outputs": [
    {
     "name": "stderr",
     "output_type": "stream",
     "text": [
      "/Users/lovedeepsingh/anaconda3/lib/python3.7/site-packages/ipykernel_launcher.py:4: UserWarning: Update your `Dense` call to the Keras 2 API: `Dense(activation=\"relu\", input_dim=11915, units=500, kernel_initializer=\"uniform\")`\n",
      "  after removing the cwd from sys.path.\n",
      "/Users/lovedeepsingh/anaconda3/lib/python3.7/site-packages/ipykernel_launcher.py:5: UserWarning: Update your `Dense` call to the Keras 2 API: `Dense(activation=\"relu\", units=100, kernel_initializer=\"uniform\")`\n",
      "  \"\"\"\n",
      "/Users/lovedeepsingh/anaconda3/lib/python3.7/site-packages/ipykernel_launcher.py:6: UserWarning: Update your `Dense` call to the Keras 2 API: `Dense(activation=\"relu\", units=50, kernel_initializer=\"uniform\")`\n",
      "  \n",
      "/Users/lovedeepsingh/anaconda3/lib/python3.7/site-packages/ipykernel_launcher.py:7: UserWarning: Update your `Dense` call to the Keras 2 API: `Dense(activation=\"relu\", units=20, kernel_initializer=\"uniform\")`\n",
      "  import sys\n",
      "/Users/lovedeepsingh/anaconda3/lib/python3.7/site-packages/ipykernel_launcher.py:8: UserWarning: Update your `Dense` call to the Keras 2 API: `Dense(activation=\"relu\", units=10, kernel_initializer=\"uniform\")`\n",
      "  \n",
      "/Users/lovedeepsingh/anaconda3/lib/python3.7/site-packages/ipykernel_launcher.py:9: UserWarning: Update your `Dense` call to the Keras 2 API: `Dense(activation=\"relu\", units=5, kernel_initializer=\"uniform\")`\n",
      "  if __name__ == '__main__':\n",
      "/Users/lovedeepsingh/anaconda3/lib/python3.7/site-packages/ipykernel_launcher.py:10: UserWarning: Update your `Dense` call to the Keras 2 API: `Dense(activation=\"sigmoid\", units=1, kernel_initializer=\"uniform\")`\n",
      "  # Remove the CWD from sys.path while we load stuff.\n"
     ]
    },
    {
     "name": "stdout",
     "output_type": "stream",
     "text": [
      "Epoch 1/10\n",
      "10229/10229 [==============================] - 220s 21ms/step - loss: 0.6778 - accuracy: 0.5613\n",
      "Epoch 2/10\n",
      "10229/10229 [==============================] - 199s 19ms/step - loss: 0.5771 - accuracy: 0.7020\n",
      "Epoch 3/10\n",
      "10229/10229 [==============================] - 228s 22ms/step - loss: 0.3139 - accuracy: 0.8712\n",
      "Epoch 4/10\n",
      "10229/10229 [==============================] - 233s 23ms/step - loss: 0.0431 - accuracy: 0.9866\n",
      "Epoch 5/10\n",
      "10229/10229 [==============================] - 211s 21ms/step - loss: 0.0086 - accuracy: 0.9977\n",
      "Epoch 6/10\n",
      "10229/10229 [==============================] - 215s 21ms/step - loss: 0.0040 - accuracy: 0.9990\n",
      "Epoch 7/10\n",
      "10229/10229 [==============================] - 201s 20ms/step - loss: 0.0029 - accuracy: 0.9992\n",
      "Epoch 8/10\n",
      "10229/10229 [==============================] - 284s 28ms/step - loss: 0.0021 - accuracy: 0.9994\n",
      "Epoch 9/10\n",
      "10229/10229 [==============================] - 219s 21ms/step - loss: 0.0017 - accuracy: 0.9994\n",
      "Epoch 10/10\n",
      "10229/10229 [==============================] - 207s 20ms/step - loss: 0.0016 - accuracy: 0.9995\n",
      "algorithm - test dataset accuracy - valid dataset accuracy\n",
      "ANNTFIDF -  0.5777  - 0.5717\n"
     ]
    }
   ],
   "source": [
    "#fit on training data and check accuracies on both test and valid data\n",
    "clf.fit(tfidf_train,y_train, batch_size=10, nb_epoch=10)\n",
    "y_test_pred = clf.predict(tfidf_test)\n",
    "print('algorithm - test dataset accuracy - valid dataset accuracy')\n",
    "print('ANNTFIDF - ' ,round(accuracy_score(y_test, y_test_pred),4), ' - ', end='')\n",
    "y_test_pred = clf.predict(tfidf_valid)\n",
    "print(round(accuracy_score(y_valid, y_test_pred),4))"
   ]
  },
  {
   "cell_type": "code",
   "execution_count": null,
   "metadata": {},
   "outputs": [],
   "source": []
  }
 ],
 "metadata": {
  "kernelspec": {
   "display_name": "Python 3",
   "language": "python",
   "name": "python3"
  },
  "language_info": {
   "codemirror_mode": {
    "name": "ipython",
    "version": 3
   },
   "file_extension": ".py",
   "mimetype": "text/x-python",
   "name": "python",
   "nbconvert_exporter": "python",
   "pygments_lexer": "ipython3",
   "version": "3.7.3"
  }
 },
 "nbformat": 4,
 "nbformat_minor": 4
}
